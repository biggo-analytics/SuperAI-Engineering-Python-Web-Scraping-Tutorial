{
  "nbformat": 4,
  "nbformat_minor": 0,
  "metadata": {
    "colab": {
      "name": "Python Web Scraping - C4  RegEx in Python",
      "provenance": [],
      "collapsed_sections": [],
      "authorship_tag": "ABX9TyOps0/fDNQaoqO27oxnU7Hq",
      "include_colab_link": true
    },
    "kernelspec": {
      "name": "python3",
      "display_name": "Python 3"
    }
  },
  "cells": [
    {
      "cell_type": "markdown",
      "metadata": {
        "id": "view-in-github",
        "colab_type": "text"
      },
      "source": [
        "<a href=\"https://colab.research.google.com/github/chaiyaphum/SuperAI-Engineering-Python-Web-Scraping-Tutorial/blob/main/Python_Web_Scraping_C4_RegEx_in_Python.ipynb\" target=\"_parent\"><img src=\"https://colab.research.google.com/assets/colab-badge.svg\" alt=\"Open In Colab\"/></a>"
      ]
    },
    {
      "cell_type": "markdown",
      "metadata": {
        "id": "6Th-nZUIAnB6"
      },
      "source": [
        "## Returns a match where the specified characters are at the beginning or at the end of a word"
      ]
    },
    {
      "cell_type": "code",
      "metadata": {
        "id": "6P5cvbUbAoQp",
        "outputId": "7a2dea6e-ffb0-40f7-97a8-90befc8b361c",
        "colab": {
          "base_uri": "https://localhost:8080/",
          "height": 51
        }
      },
      "source": [
        "import re\n",
        "\n",
        "message = \"The rain in Spain\"\n",
        "\n",
        "result_start = re.findall(r\"\\b\", message)\n",
        "print(result_start)\n",
        "\n",
        "result_end = re.findall(r\"ain\\b\", message)\n",
        "print(result_end)"
      ],
      "execution_count": 2,
      "outputs": [
        {
          "output_type": "stream",
          "text": [
            "['', '', '', '', '', '', '', '']\n",
            "['ain', 'ain']\n"
          ],
          "name": "stdout"
        }
      ]
    },
    {
      "cell_type": "markdown",
      "metadata": {
        "id": "OGfK5RIcBxpV"
      },
      "source": [
        "## Returns a match for any two-digit numbers from 00 and 59"
      ]
    },
    {
      "cell_type": "code",
      "metadata": {
        "id": "R9BCHAoaCBnG",
        "outputId": "8063c103-e103-4c39-8285-b2f3710d8693",
        "colab": {
          "base_uri": "https://localhost:8080/",
          "height": 34
        }
      },
      "source": [
        "message = \"8 times before 11:45 AM\"\n",
        "result = re.findall(\"[0-5][0-9]\", message)\n",
        "\n",
        "print(result)"
      ],
      "execution_count": 53,
      "outputs": [
        {
          "output_type": "stream",
          "text": [
            "['11', '45']\n"
          ],
          "name": "stdout"
        }
      ]
    },
    {
      "cell_type": "markdown",
      "metadata": {
        "id": "HhWYToDB2xLS"
      },
      "source": [
        "## **Extract email sub-strings from document**"
      ]
    },
    {
      "cell_type": "code",
      "metadata": {
        "id": "N-mcxltzvtiI",
        "outputId": "528b1341-8674-435c-d76c-6bd136b7eecc",
        "colab": {
          "base_uri": "https://localhost:8080/",
          "height": 34
        }
      },
      "source": [
        "message = \"Hi my name is Somchai and email address is Somchai.example@tu.ac.th and my friend's email is apirak@gmail.com (@mail.com)\"\n",
        "result = re.findall(\"([a-zA-Z0-9_.+-]+@[a-zA-Z0-9-]+\\.[a-zA-Z0-9-.]+)\", message)\n",
        "\n",
        "print(result)"
      ],
      "execution_count": 3,
      "outputs": [
        {
          "output_type": "stream",
          "text": [
            "['Somchai.example@tu.ac.th', 'apirak@gmail.com']\n"
          ],
          "name": "stdout"
        }
      ]
    },
    {
      "cell_type": "markdown",
      "metadata": {
        "id": "_TE5R1Kt88va"
      },
      "source": [
        "## **Extract URL from document**"
      ]
    },
    {
      "cell_type": "code",
      "metadata": {
        "id": "lIaCfilG89A9",
        "outputId": "08d6208c-5298-47dd-945c-bc36e87475de",
        "colab": {
          "base_uri": "https://localhost:8080/",
          "height": 34
        }
      },
      "source": [
        "message = \"Hi my name is Somchai and web address is https://www.tu.ac.th and my friend's email is www.apirak.com (http://ap.org)\"\n",
        "result = re.findall(\"(https?:\\/\\/(?:www\\.|(?!www))[a-zA-Z0-9][a-zA-Z0-9-]+[a-zA-Z0-9]\\.[^\\s]{2,}|www\\.[a-zA-Z0-9][a-zA-Z0-9-]+[a-zA-Z0-9]\\.[^\\s]{2,}|https?:\\/\\/(?:www\\.|(?!www))[a-zA-Z0-9]+\\.[^\\s]{2,}|www\\.[a-zA-Z0-9]+\\.[^\\s]{2,})\", message)\n",
        "\n",
        "print(result)"
      ],
      "execution_count": 30,
      "outputs": [
        {
          "output_type": "stream",
          "text": [
            "['https://www.tu.ac.th', 'www.apirak.com', 'http://ap.org)']\n"
          ],
          "name": "stdout"
        }
      ]
    },
    {
      "cell_type": "markdown",
      "metadata": {
        "id": "KWIdib7A4bKl"
      },
      "source": [
        "## **Extract number from document**"
      ]
    },
    {
      "cell_type": "code",
      "metadata": {
        "id": "gIz8DPqIv4av",
        "outputId": "3e2c73c4-9593-479c-88ab-0bcd75023b62",
        "colab": {
          "base_uri": "https://localhost:8080/",
          "height": 34
        }
      },
      "source": [
        "message = \"สเตฟานีได้รับรางวัลแกรมมี่ 3 รางวัล ในฐานะศิลปินเดี่ยวแล้วเธอยังได้รับอีกหลายรางวัล อย่างเช่น รางวัลอเมริกันมิวสิกอะวอร์ด บริตอะวอดส์ เวิลด์มิวสิกอะวอดส์ และ 2 รางวัลบิลบอร์ดมิวสิกอวอร์ด ในปี 2003 เธอยังออกสินค้าประเภทเครื่องแต่งกายในนาม แอล.เอ.เอ็ม.บี. ยังแยกแบรนด์สินค้าอีกชื่อ คือ ฮาราจูกุเลิฟเวอส์ ที่ได้รับแรงบันดาลใจจากวัฒนธรรมญี่ปุ่นและแฟชั่น ในช่วงเวลานี้เองเธอจะแสดงและปรากฏตัวพร้อมนักเต้นสาว 4 คน ที่รู้จักในชื่อ ฮาราจูกุเกิลส์ เธอแต่งงานกับนักดนตรีชาวอังกฤษ เกวิน รอสส์เดล ระหว่างปี 2002 ถึง 2016 และมีบุตรชายด้วยกัน 3 คน นิตยสาร บิลบอร์ด จัดอันดับให้เธออยู่อันดับ 54 ของศิลปินที่ประสบความสำเร็จที่สุด และอันดับ 37 ของศิลปินที่ประสบความสำเร็จบนฮอต 100 ในทศวรรษ 2000–09\"\n",
        "result = re.findall(\"\\d+\", message)\n",
        "\n",
        "print(result)"
      ],
      "execution_count": 4,
      "outputs": [
        {
          "output_type": "stream",
          "text": [
            "['3', '2', '2003', '4', '2002', '2016', '3', '54', '37', '100', '2000', '09']\n"
          ],
          "name": "stdout"
        }
      ]
    },
    {
      "cell_type": "markdown",
      "metadata": {
        "id": "U-Ap777aoCl4"
      },
      "source": [
        "## Find text inside HTML tag (\\<a\\>)"
      ]
    },
    {
      "cell_type": "code",
      "metadata": {
        "id": "GjO-4c9p_51H",
        "outputId": "ec0b7210-f262-4465-c755-e3a35231504c",
        "colab": {
          "base_uri": "https://localhost:8080/",
          "height": 119
        }
      },
      "source": [
        "message = \"\"\" <ul class=\"sub-menu\">\n",
        "\t<li class=\"menu-item menu-item-type-post_type menu-item-object-page menu-item-409\"><a href=\"https://superai.aiat.or.th/central/\">ศูนย์ประสานงานและเครือข่ายภาคกลาง (ศูนย์ประสานหลัก)</a><span class='ti-plus down-submenu'></span></li>\n",
        "\t<li class=\"menu-item menu-item-type-post_type menu-item-object-page menu-item-408\"><a href=\"https://superai.aiat.or.th/north/\">ศูนย์ประสานงานและเครือข่ายภาคเหนือ</a><span class='ti-plus down-submenu'></span></li>\n",
        "\t<li class=\"menu-item menu-item-type-post_type menu-item-object-page menu-item-407\"><a href=\"https://superai.aiat.or.th/northeastern/\">ศูนย์ประสานงานและเครือข่ายภาคตะวันออกเฉียงเหนือ</a><span class='ti-plus down-submenu'></span></li>\n",
        "\t<li class=\"menu-item menu-item-type-post_type menu-item-object-page menu-item-406\"><a href=\"https://superai.aiat.or.th/east/\">ศูนย์ประสานงานและเครือข่ายภาคตะวันออก</a><span class='ti-plus down-submenu'></span></li>\n",
        "\t<li class=\"menu-item menu-item-type-post_type menu-item-object-page menu-item-405\"><a href=\"https://superai.aiat.or.th/west/\">ศูนย์ประสานงานและเครือข่ายภาคตะวันตก</a><span class='ti-plus down-submenu'></span></li>\n",
        "\t<li class=\"menu-item menu-item-type-post_type menu-item-object-page menu-item-404\"><a href=\"https://superai.aiat.or.th/south/\">ศูนย์ประสานงานและเครือข่ายภาคใต้</a><span class='ti-plus down-submenu'></span></li>\n",
        "</ul>\"\"\" \n",
        "\n",
        "result = re.findall('<a[^>]*>([^<]+)</a>', message)\n",
        "\n",
        "print('\\n'.join(result))"
      ],
      "execution_count": 7,
      "outputs": [
        {
          "output_type": "stream",
          "text": [
            "ศูนย์ประสานงานและเครือข่ายภาคกลาง (ศูนย์ประสานหลัก)\n",
            "ศูนย์ประสานงานและเครือข่ายภาคเหนือ\n",
            "ศูนย์ประสานงานและเครือข่ายภาคตะวันออกเฉียงเหนือ\n",
            "ศูนย์ประสานงานและเครือข่ายภาคตะวันออก\n",
            "ศูนย์ประสานงานและเครือข่ายภาคตะวันตก\n",
            "ศูนย์ประสานงานและเครือข่ายภาคใต้\n"
          ],
          "name": "stdout"
        }
      ]
    },
    {
      "cell_type": "markdown",
      "metadata": {
        "id": "TG_EHi4mpB0_"
      },
      "source": [
        "## **Find URL inside HTML tag (\\<a\\>)**"
      ]
    },
    {
      "cell_type": "code",
      "metadata": {
        "id": "MBN_36GVnPdk",
        "outputId": "18594ff5-091d-4482-9ca9-1298dc9da992",
        "colab": {
          "base_uri": "https://localhost:8080/",
          "height": 119
        }
      },
      "source": [
        "message = \"\"\" <ul class=\"sub-menu\">\n",
        "\t<li class=\"menu-item menu-item-type-post_type menu-item-object-page menu-item-409\"><a href=\"https://superai.aiat.or.th/central/\">ศูนย์ประสานงานและเครือข่ายภาคกลาง (ศูนย์ประสานหลัก)</a><span class='ti-plus down-submenu'></span></li>\n",
        "\t<li class=\"menu-item menu-item-type-post_type menu-item-object-page menu-item-408\"><a href=\"https://superai.aiat.or.th/north/\">ศูนย์ประสานงานและเครือข่ายภาคเหนือ</a><span class='ti-plus down-submenu'></span></li>\n",
        "\t<li class=\"menu-item menu-item-type-post_type menu-item-object-page menu-item-407\"><a href=\"https://superai.aiat.or.th/northeastern/\">ศูนย์ประสานงานและเครือข่ายภาคตะวันออกเฉียงเหนือ</a><span class='ti-plus down-submenu'></span></li>\n",
        "\t<li class=\"menu-item menu-item-type-post_type menu-item-object-page menu-item-406\"><a href=\"https://superai.aiat.or.th/east/\">ศูนย์ประสานงานและเครือข่ายภาคตะวันออก</a><span class='ti-plus down-submenu'></span></li>\n",
        "\t<li class=\"menu-item menu-item-type-post_type menu-item-object-page menu-item-405\"><a href=\"https://superai.aiat.or.th/west/\">ศูนย์ประสานงานและเครือข่ายภาคตะวันตก</a><span class='ti-plus down-submenu'></span></li>\n",
        "\t<li class=\"menu-item menu-item-type-post_type menu-item-object-page menu-item-404\"><a href=\"https://superai.aiat.or.th/south/\">ศูนย์ประสานงานและเครือข่ายภาคใต้</a><span class='ti-plus down-submenu'></span></li>\n",
        "</ul>\"\"\" \n",
        "\n",
        "result = re.findall('<a\\s+(?:[^>]*?\\s+)?href=\"([^\"]*)\"', message)\n",
        "\n",
        "print('\\n'.join(result))"
      ],
      "execution_count": 12,
      "outputs": [
        {
          "output_type": "stream",
          "text": [
            "https://superai.aiat.or.th/central/\n",
            "https://superai.aiat.or.th/north/\n",
            "https://superai.aiat.or.th/northeastern/\n",
            "https://superai.aiat.or.th/east/\n",
            "https://superai.aiat.or.th/west/\n",
            "https://superai.aiat.or.th/south/\n"
          ],
          "name": "stdout"
        }
      ]
    },
    {
      "cell_type": "code",
      "metadata": {
        "id": "Nr453SDQoecl"
      },
      "source": [
        ""
      ],
      "execution_count": null,
      "outputs": []
    }
  ]
}