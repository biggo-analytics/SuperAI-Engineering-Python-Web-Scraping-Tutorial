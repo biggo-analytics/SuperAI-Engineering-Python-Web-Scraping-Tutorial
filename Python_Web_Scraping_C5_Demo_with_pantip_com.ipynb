{
  "nbformat": 4,
  "nbformat_minor": 0,
  "metadata": {
    "kernelspec": {
      "display_name": "Python 3",
      "language": "python",
      "name": "python3"
    },
    "language_info": {
      "codemirror_mode": {
        "name": "ipython",
        "version": 3
      },
      "file_extension": ".py",
      "mimetype": "text/x-python",
      "name": "python",
      "nbconvert_exporter": "python",
      "pygments_lexer": "ipython3",
      "version": "3.7.9"
    },
    "colab": {
      "name": "Python Web Scraping - C5 Demo with pantip.com",
      "provenance": [],
      "collapsed_sections": [],
      "include_colab_link": true
    }
  },
  "cells": [
    {
      "cell_type": "markdown",
      "metadata": {
        "id": "view-in-github",
        "colab_type": "text"
      },
      "source": [
        "<a href=\"https://colab.research.google.com/github/chaiyaphum/SuperAI-Engineering-Python-Web-Scraping-Tutorial/blob/main/Python_Web_Scraping_C5_Demo_with_pantip_com.ipynb\" target=\"_parent\"><img src=\"https://colab.research.google.com/assets/colab-badge.svg\" alt=\"Open In Colab\"/></a>"
      ]
    },
    {
      "cell_type": "code",
      "metadata": {
        "id": "MZ_mb4suu4Aq",
        "outputId": "14bcb23c-1c57-4363-db8d-b07de22a4397",
        "colab": {
          "base_uri": "https://localhost:8080/",
          "height": 1000
        }
      },
      "source": [
        "# install selenium\n",
        "!pip install selenium\n",
        "\n",
        "# Update ubuntu to correctly run apt install\n",
        "!apt-get update\n",
        "\n",
        "# Install chromedriver\n",
        "!apt install chromium-chromedriver\n",
        "!cp /usr/lib/chromium-browser/chromedriver /usr/bin"
      ],
      "execution_count": 2,
      "outputs": [
        {
          "output_type": "stream",
          "text": [
            "Collecting selenium\n",
            "\u001b[?25l  Downloading https://files.pythonhosted.org/packages/80/d6/4294f0b4bce4de0abf13e17190289f9d0613b0a44e5dd6a7f5ca98459853/selenium-3.141.0-py2.py3-none-any.whl (904kB)\n",
            "\u001b[K     |████████████████████████████████| 911kB 1.4MB/s \n",
            "\u001b[?25hRequirement already satisfied: urllib3 in /usr/local/lib/python3.6/dist-packages (from selenium) (1.24.3)\n",
            "Installing collected packages: selenium\n",
            "Successfully installed selenium-3.141.0\n",
            "Get:1 https://cloud.r-project.org/bin/linux/ubuntu bionic-cran40/ InRelease [3,626 B]\n",
            "Ign:2 https://developer.download.nvidia.com/compute/cuda/repos/ubuntu1804/x86_64  InRelease\n",
            "Get:3 https://cloud.r-project.org/bin/linux/ubuntu bionic-cran40/ Packages [39.3 kB]\n",
            "Ign:4 https://developer.download.nvidia.com/compute/machine-learning/repos/ubuntu1804/x86_64  InRelease\n",
            "Hit:5 http://archive.ubuntu.com/ubuntu bionic InRelease\n",
            "Get:6 http://security.ubuntu.com/ubuntu bionic-security InRelease [88.7 kB]\n",
            "Get:7 http://ppa.launchpad.net/c2d4u.team/c2d4u4.0+/ubuntu bionic InRelease [15.9 kB]\n",
            "Get:8 https://developer.download.nvidia.com/compute/cuda/repos/ubuntu1804/x86_64  Release [697 B]\n",
            "Get:9 https://developer.download.nvidia.com/compute/machine-learning/repos/ubuntu1804/x86_64  Release [564 B]\n",
            "Get:10 https://developer.download.nvidia.com/compute/cuda/repos/ubuntu1804/x86_64  Release.gpg [836 B]\n",
            "Get:11 https://developer.download.nvidia.com/compute/machine-learning/repos/ubuntu1804/x86_64  Release.gpg [833 B]\n",
            "Get:12 http://archive.ubuntu.com/ubuntu bionic-updates InRelease [88.7 kB]\n",
            "Ign:13 https://developer.download.nvidia.com/compute/cuda/repos/ubuntu1804/x86_64  Packages\n",
            "Get:14 https://developer.download.nvidia.com/compute/machine-learning/repos/ubuntu1804/x86_64  Packages [57.0 kB]\n",
            "Get:13 https://developer.download.nvidia.com/compute/cuda/repos/ubuntu1804/x86_64  Packages [370 kB]\n",
            "Hit:15 http://ppa.launchpad.net/graphics-drivers/ppa/ubuntu bionic InRelease\n",
            "Get:16 http://archive.ubuntu.com/ubuntu bionic-backports InRelease [74.6 kB]\n",
            "Get:17 http://security.ubuntu.com/ubuntu bionic-security/main amd64 Packages [1,745 kB]\n",
            "Get:18 http://ppa.launchpad.net/c2d4u.team/c2d4u4.0+/ubuntu bionic/main Sources [1,681 kB]\n",
            "Get:19 http://archive.ubuntu.com/ubuntu bionic-updates/restricted amd64 Packages [238 kB]\n",
            "Get:20 http://archive.ubuntu.com/ubuntu bionic-updates/multiverse amd64 Packages [45.9 kB]\n",
            "Get:21 http://archive.ubuntu.com/ubuntu bionic-updates/universe amd64 Packages [2,115 kB]\n",
            "Get:22 http://security.ubuntu.com/ubuntu bionic-security/universe amd64 Packages [1,352 kB]\n",
            "Get:23 http://security.ubuntu.com/ubuntu bionic-security/restricted amd64 Packages [211 kB]\n",
            "Get:24 http://security.ubuntu.com/ubuntu bionic-security/multiverse amd64 Packages [15.4 kB]\n",
            "Get:25 http://archive.ubuntu.com/ubuntu bionic-updates/main amd64 Packages [2,162 kB]\n",
            "Get:26 http://ppa.launchpad.net/c2d4u.team/c2d4u4.0+/ubuntu bionic/main amd64 Packages [860 kB]\n",
            "Fetched 11.2 MB in 5s (2,105 kB/s)\n",
            "Reading package lists... Done\n",
            "Reading package lists... Done\n",
            "Building dependency tree       \n",
            "Reading state information... Done\n",
            "The following additional packages will be installed:\n",
            "  chromium-browser chromium-browser-l10n chromium-codecs-ffmpeg-extra\n",
            "Suggested packages:\n",
            "  webaccounts-chromium-extension unity-chromium-extension adobe-flashplugin\n",
            "The following NEW packages will be installed:\n",
            "  chromium-browser chromium-browser-l10n chromium-chromedriver\n",
            "  chromium-codecs-ffmpeg-extra\n",
            "0 upgraded, 4 newly installed, 0 to remove and 50 not upgraded.\n",
            "Need to get 80.1 MB of archives.\n",
            "After this operation, 271 MB of additional disk space will be used.\n",
            "Get:1 http://archive.ubuntu.com/ubuntu bionic-updates/universe amd64 chromium-codecs-ffmpeg-extra amd64 86.0.4240.75-0ubuntu0.18.04.1 [1,127 kB]\n",
            "Get:2 http://archive.ubuntu.com/ubuntu bionic-updates/universe amd64 chromium-browser amd64 86.0.4240.75-0ubuntu0.18.04.1 [70.9 MB]\n",
            "Get:3 http://archive.ubuntu.com/ubuntu bionic-updates/universe amd64 chromium-browser-l10n all 86.0.4240.75-0ubuntu0.18.04.1 [3,579 kB]\n",
            "Get:4 http://archive.ubuntu.com/ubuntu bionic-updates/universe amd64 chromium-chromedriver amd64 86.0.4240.75-0ubuntu0.18.04.1 [4,486 kB]\n",
            "Fetched 80.1 MB in 9s (9,132 kB/s)\n",
            "Selecting previously unselected package chromium-codecs-ffmpeg-extra.\n",
            "(Reading database ... 144611 files and directories currently installed.)\n",
            "Preparing to unpack .../chromium-codecs-ffmpeg-extra_86.0.4240.75-0ubuntu0.18.04.1_amd64.deb ...\n",
            "Unpacking chromium-codecs-ffmpeg-extra (86.0.4240.75-0ubuntu0.18.04.1) ...\n",
            "Selecting previously unselected package chromium-browser.\n",
            "Preparing to unpack .../chromium-browser_86.0.4240.75-0ubuntu0.18.04.1_amd64.deb ...\n",
            "Unpacking chromium-browser (86.0.4240.75-0ubuntu0.18.04.1) ...\n",
            "Selecting previously unselected package chromium-browser-l10n.\n",
            "Preparing to unpack .../chromium-browser-l10n_86.0.4240.75-0ubuntu0.18.04.1_all.deb ...\n",
            "Unpacking chromium-browser-l10n (86.0.4240.75-0ubuntu0.18.04.1) ...\n",
            "Selecting previously unselected package chromium-chromedriver.\n",
            "Preparing to unpack .../chromium-chromedriver_86.0.4240.75-0ubuntu0.18.04.1_amd64.deb ...\n",
            "Unpacking chromium-chromedriver (86.0.4240.75-0ubuntu0.18.04.1) ...\n",
            "Setting up chromium-codecs-ffmpeg-extra (86.0.4240.75-0ubuntu0.18.04.1) ...\n",
            "Setting up chromium-browser (86.0.4240.75-0ubuntu0.18.04.1) ...\n",
            "update-alternatives: using /usr/bin/chromium-browser to provide /usr/bin/x-www-browser (x-www-browser) in auto mode\n",
            "update-alternatives: using /usr/bin/chromium-browser to provide /usr/bin/gnome-www-browser (gnome-www-browser) in auto mode\n",
            "Setting up chromium-chromedriver (86.0.4240.75-0ubuntu0.18.04.1) ...\n",
            "Setting up chromium-browser-l10n (86.0.4240.75-0ubuntu0.18.04.1) ...\n",
            "Processing triggers for hicolor-icon-theme (0.17-2) ...\n",
            "Processing triggers for mime-support (3.60ubuntu1) ...\n",
            "Processing triggers for man-db (2.8.3-2ubuntu0.1) ...\n",
            "cp: '/usr/lib/chromium-browser/chromedriver' and '/usr/bin/chromedriver' are the same file\n"
          ],
          "name": "stdout"
        }
      ]
    },
    {
      "cell_type": "code",
      "metadata": {
        "id": "r6nKp9CEuf4f"
      },
      "source": [
        "import sys\n",
        "import os\n",
        "import time\n",
        "import requests\n",
        "from bs4 import BeautifulSoup\n",
        "\n",
        "import re\n",
        "import pandas as pd\n",
        "\n",
        "from selenium import webdriver\n",
        "from selenium.webdriver.common.action_chains import ActionChains\n",
        "\n",
        "sys.path.insert(0,'/usr/lib/chromium-browser/chromedriver')"
      ],
      "execution_count": 6,
      "outputs": []
    },
    {
      "cell_type": "code",
      "metadata": {
        "id": "95TI24WNuf4j",
        "outputId": "9be13b64-645a-4970-e6a7-432ed72a6cc4",
        "colab": {
          "base_uri": "https://localhost:8080/",
          "height": 51
        }
      },
      "source": [
        "chrome_options = webdriver.ChromeOptions()\n",
        "chrome_options.add_argument('--headless')\n",
        "chrome_options.add_argument('--no-sandbox')\n",
        "chrome_options.add_argument('--disable-dev-shm-usage')\n",
        "\n",
        "driver = webdriver.Chrome('chromedriver',chrome_options=chrome_options)\n",
        "\n",
        "driver.get('https://www.pantip.com/')"
      ],
      "execution_count": 7,
      "outputs": [
        {
          "output_type": "stream",
          "text": [
            "/usr/local/lib/python3.6/dist-packages/ipykernel_launcher.py:6: DeprecationWarning: use options instead of chrome_options\n",
            "  \n"
          ],
          "name": "stderr"
        }
      ]
    },
    {
      "cell_type": "code",
      "metadata": {
        "id": "XKbQzs_cuf4q",
        "outputId": "0bb4845d-ac70-44b2-a2d4-21deb99d880a",
        "colab": {
          "base_uri": "https://localhost:8080/",
          "height": 102
        }
      },
      "source": [
        "# Click accept popup\n",
        "popup_accept = driver.find_elements_by_class_name(\"btn-primary\")[0]\n",
        "popup_accept.click()\n",
        "\n",
        "MAX_PAGE = 5\n",
        "\n",
        "counter = 1\n",
        "thaichana_data = pd.DataFrame([])\n",
        "\n",
        "\n",
        "while counter <= MAX_PAGE:\n",
        "    block_popular_loadmore = driver.find_elements_by_class_name(\"gtm-hitz-more\")[0]\n",
        "\n",
        "    try:\n",
        "        action = ActionChains(driver)\n",
        "        action.move_to_element(block_popular_loadmore).perform()\n",
        "    except:\n",
        "        print('Out of bounds')\n",
        "    \n",
        "    time.sleep(2)\n",
        "    block_popular_loadmore.click()\n",
        "    time.sleep(2)\n",
        "        \n",
        "    counter = counter + 1\n"
      ],
      "execution_count": 8,
      "outputs": [
        {
          "output_type": "stream",
          "text": [
            "Out of bounds\n",
            "Out of bounds\n",
            "Out of bounds\n",
            "Out of bounds\n",
            "Out of bounds\n"
          ],
          "name": "stdout"
        }
      ]
    },
    {
      "cell_type": "code",
      "metadata": {
        "id": "XuO6uy1wuf4t",
        "outputId": "31249acf-eaf6-4c46-e9aa-6ca4054e6b7e",
        "colab": {
          "base_uri": "https://localhost:8080/",
          "height": 1000
        }
      },
      "source": [
        "pantip_data = pd.DataFrame([])\n",
        "\n",
        "ul_element = driver.find_elements_by_class_name('pt-list-item__hide-stats-vote')[1]\n",
        "\n",
        "topic_count = 1\n",
        "\n",
        "for li_element in ul_element.find_elements_by_tag_name('li'):\n",
        "    topic_title = li_element.find_elements_by_tag_name('a')[0].text\n",
        "    topic_url = li_element.find_elements_by_tag_name('a')[0].get_attribute('href')\n",
        "    \n",
        "    tag_menu = li_element.find_elements_by_class_name('pt-list-item__tag')[0].find_elements_by_tag_name('a')\n",
        "    tag_list = [tag.text for tag in tag_menu]\n",
        "\n",
        "    # Access each topic in list.\n",
        "    r = requests.get(topic_url)\n",
        "    topic_soup = BeautifulSoup(r.content, 'html.parser')\n",
        "\n",
        "    topic_datetime = topic_soup.find('abbr')['data-utime']\n",
        "    topic_type = topic_soup.find('div', {'class': 'display-post-favourite'})\n",
        "    topic_type = re.sub('\\s+',' ',topic_type.get_text())\n",
        "\n",
        "    user = topic_soup.find('a', {'class': 'display-post-name'})\n",
        "    user_id = user['id']\n",
        "    username = user.get_text()\n",
        "\n",
        "    if topic_soup.find('div', {'class': 'edit-history'}) is not None:\n",
        "        topic_soup.find('div', {'class': 'edit-history'}).decompose()\n",
        "  \n",
        "    topic_content_raw = topic_soup.find('div', class_='display-post-story')\n",
        "    topic_content = topic_content_raw.get_text()\n",
        "\n",
        "    pantip_data = pantip_data.append(pd.DataFrame({\n",
        "        'topic_title': re.sub('\\s+',' ',topic_title),\n",
        "        'content': re.sub('\\s+',' ',topic_content),\n",
        "        'content_raw': str(topic_content_raw),\n",
        "        'topic_tags': '|'.join(tag_list),\n",
        "        'topic_type': topic_type,\n",
        "        'topic_datetime': topic_datetime,\n",
        "        'user_id': user_id,\n",
        "        'username': username,\n",
        "        'topic_datetime': topic_datetime,\n",
        "        'topic_url': topic_url\n",
        "    }, index=[0]), ignore_index=True)\n",
        "\n",
        "    print(\"Process topic:\", topic_count, topic_title)\n",
        "    topic_count = topic_count +1"
      ],
      "execution_count": 9,
      "outputs": [
        {
          "output_type": "stream",
          "text": [
            "Process topic:  1 One Piece Spoil 993\n",
            "Process topic:  2 ยอด album gaon รายเดือน เดือนนี้ออกวันไหนค่ะ มีใครพอจะทราบบ้างค่ะ\n",
            "Process topic:  3 ✿ นังผึ้งหลบไป เพราะนี่คือ นางร้ายตัวแม่ \" ร้อยเล่ห์ ... เสน่หา และ ฆาตกรรม \" ตัวจริง เสียงจริง ✿\n",
            "Process topic:  4 วีรยา อายุ 19 โตเป็นสาวแล้ว HBD\n",
            "Process topic:  5 คนละครึ่ง ค้นหาร้านค้าใกล้ โดยใช้ GPS ครับ\n",
            "Process topic:  6 เชียร์สด ECZACIBAŞI VİTRA VS GALATASARAY HDI SİGORTA\n",
            "Process topic:  7 ปิ่น ชรินพร สวย น่ารัก ออร่า ความดังความปังมาก\n",
            "Process topic:  8 เพลงของ BLACKPINK ที่เกือบจะไม่ได้ปล่อยในครั้งแรก 'WHISTLE' [กระทู้แปลความเห็น K-netizen (ชาวเน็ตเกาหลี)]\n",
            "Process topic:  9 ร้านค้า คนละครึ่งทำไมหายากจัง\n",
            "Process topic:  10 \"พี่มิวสิค\"ครับ ลงรูปงานGrabxBNK48 ได้แล้วหรอครับ\n",
            "Process topic:  11 ผมว่าอย่างงี้ คุณว่ายังไง BLACKPINK : light up the sky (netflix)\n",
            "Process topic:  12 Zeng Chulei สละโสด\n",
            "Process topic:  13 Teaser ฟินมากจากศัตรูสู่หัวใจ\n",
            "Process topic:  14 ยอด pre-order เสื้องานกีฬาสีอนุบาลหนูน้อย 48\n",
            "Process topic:  15 จากศัตรูสู่หัวใจ ฉากขับรถกระโดดข้ามคลองแม่น้ำ อยากทราบว่า พี่อั้มซ้อนรถจริงไหม หรือใช้สแตนด์อินแทน ลุ้นมาก ?????\n",
            "Process topic:  16 Toyota Auto Body Queenseis 2020\n",
            "Process topic:  17 จากรายการ วิทยุ ที่ cgm48 ไปออก ถ้าเทียบเรื่อง การจัดคอนเท้นต์ การนำสนอ เทียบกับรายการวิทยุใน กทม เป็นยังไงบ้าง\n",
            "Process topic:  18 TWICE – Eyes wide open Jacket making film\n",
            "Process topic:  19 ฉันเหนื่อยเศษฐกิจแบบนี้ไม่มีเงินเลยหันหาใคร ก็ไร้การช่วยเหลือ!!\n",
            "Process topic:  20 ใครมีเทคนิดหาร้านใกล้บ้านที่ร่วมโครงการ \"คนละครึ่ง\" บ้างครับ\n",
            "Process topic:  21 ครบรอบ 2 ปี D-day Jiradapa produce concert\n",
            "Process topic:  22 บังทันในระดับโลกถือว่าไปจุดไหนแล้วค่ะ\n",
            "Process topic:  23 ใครคิดถึงคนนี้บ้าง ❤\n",
            "Process topic:  24 เหตุท่อแก๊สระเบิดที่บางบ่อ เทียบเท่ารัศมีการทำลายล้างของการทิ้งลูกระเบิดเพลิงทางอากาศใส่เวียดกงในสงครามเวียดนามมั้ยครับ?\n",
            "Process topic:  25 ฌอห์ณ จินดาโชติ ไม่โสดแล้ว ?\n",
            "Process topic:  26 \"น้องอรอุ๋ง\"ฉามขวบ\n",
            "Process topic:  27 \"โอซากิ โชทาโร่\" ระวังไว้ให้ดี เด็กคนนี้ของแรงมาก\n",
            "Process topic:  28 ศูนย์ฝึกฟุตบอลแห่งชาติ ตอนนี้เงียบหายไปแล้ว\n",
            "Process topic:  29 ความรัก คำสัญญา ความตาย เรื่องจริงอยากแชร์ให้อ่านค่ะ\n",
            "Process topic:  30 กลับมาอย่างแซ่บ “อั้ม พัชราภา” กับซีนล่าสุดเซ็กซี่สะท้านไอจี!!\n",
            "Process topic:  31 [#NCT] #NCT_U No.1 #MakeAWish3rdWin🏆🏆🏆on KBS MUSIC BANK 2020.10.23 & LIVE<NCT_U>'FROM HOME' STAGE\n",
            "Process topic:  32 เป็นแม่ค้าโมโหใส่ลูกค้าก็ได้เหรอ!?\n",
            "Process topic:  33 โครงการคนละครึ่ง นนทบุรี มีที่ไหนบ้าง\n",
            "Process topic:  34 เอาเล่มรถไปจำนำ แล้วผ่อนต่อไม่ไหว เพราะตกงาน ทำยังไงดี\n",
            "Process topic:  35 ทีมงาน สไตลิสต์ จากวงการ k-pop ร่วมกันส่งกำลังใจและเล่าถึงความประทับใจเกี่ยวกับ IRENE กันอย่างล้นหลาม\n",
            "Process topic:  36 เปิดโผปัง! จับตาละครล็อตใหม่ 7HD คู่พระ-นางเคมีตรงกัน \n",
            "Process topic:  37 พู่ แอ๊ฟ แนน\n",
            "Process topic:  38 มีK-popวงไหนที่แฟชั่นหลุดโลกเหมือน2NE1บ้าง\n",
            "Process topic:  39 มีแต่เรารึป่าวที่มองว่าโรเซ่เป็นคนเซ็กซี่มากกว่าน่ารัก\n",
            "Process topic:  40 ข่าวดีหนังที่ปัญไปพากษ์ลงเน็ทฟลิกซ์แล้ว\n",
            "Process topic:  41 มุกดากับเข้ม\n",
            "Process topic:  42 โอซิล แฉ เหตุ อาร์เซนอล ไม่ส่งลง พรีเมียร์ลีก\n",
            "Process topic:  43 [BNK48] ซิงเกิล kokoro no placard (ป้ายประกาศรัก)จะมี Ver. Thai ไหม ?และคิดว่าใครน่าจะได้เป็น Center ครับ ? (โหวตกันดู)\n",
            "Process topic:  44 ทำไมผู้รักษาประตูที่เชลชีซื้อมาแพงมากเลย ราคา 71.6 ล้านปอนด์ ไม่เคยเห็นคนไหนแพงขนาดนี้ในตำแหน่งนี้ เพราะอะไรครับ\n",
            "Process topic:  45 ตามหาดาราคนนี้ จำหน้าได้แต่นึกไม่ออกจริงๆ\n",
            "Process topic:  46 ประกาศผลคะแนนโหวตตัวละครยอดนิยม ดาบพิฆาตอสูร ครั้งที่ 2\n",
            "Process topic:  47 เห็นแล้วเอ็นดูวววว..เจนนี่เขิลโอ๊ตตัวบิด\n",
            "Process topic:  48 ถ้าใช้เงินจากโครงการ \"วันละครึ่ง\" วันแรกไม่ถึง 150 บาท เช่น ใช่ไปแค่ 100 บาท เงินที่เหลือของวันแรกจะโดนตัดทิ้งไหม?\n",
            "Process topic:  49 อันดับการ์ตูนจัมป์ เล่มที่47/2020\n",
            "Process topic:  50 ผลงานของอาเซน่อลปีนี้แย่มากเหรอครับ ในโซเชี่ยลด่ากันเยอะเลย\n",
            "Process topic:  51 ทำไมยอดวิวคลิปเต้นของblackpnkเยอะจัง\n",
            "Process topic:  52 🕣📌 “น้ำผึ้งขม” สาวๆ เยอะมากๆ 🥰🥰🤗 แกงไม่แกง เด๋วก็รู้ ⁉️\n",
            "Process topic:  53 ลูกากู สุดเจ๋งติด 10 อันดับกองหน้าที่ดีที่สุดในโลกที่จัดโดยนิตยสาร fourfourtwo เก่งขนาดนี้ทำไมแฟนผีไม่ชอบคนับ..บ\n",
            "Process topic:  54 ไอดอลคนไหนที่ไม่ว่าใครก็เกลียดไม่ลง\n",
            "Process topic:  55 ท่อก๊าซฯระเบิด - อายุใช้งาน\n",
            "Process topic:  56 COVID-19-โคโรน่าไวรัส ยอด41.71ล้าน สถานการณ์วันที่ 23/10/2020\n",
            "Process topic:  57 [กระทู้ข่าว][23OCT20][BLACKPINK]🎬JISOO เริ่มถ่ายทำซีรี่ย์ 'SNOWDROP' วันนี้/ข่าวความเคลื่อนไหวประจำวัน\n",
            "Process topic:  58 ก็ไม่เข้าใจทำไมต้องมีความรัก ดีจริงหรืออุปหมู่คะ?\n",
            "Process topic:  59 #Kimhanbinisback คิมฮันบินกลับมาเคลื่อนไหวในไอจีอีกครั้งหลังจากหายไป 500วัน\n",
            "Process topic:  60 ราคาค่าแรงช่างของศูนย์มาสด้า ราคา700/ชั่วโมงนี่ถือว่าแพงไหม\n",
            "Process topic:  61 เชียงราย ได้ลงเตะ AFC Championleauge ที่สนาม จัสซิม บิน ฮามาด สเตเดี้ยม ที่กาตาร์\n",
            "Process topic:  62 คนโดแถวบางซื่อ น่าลงทุนไหม\n",
            "Process topic:  63 ว่าด้วยเรื่องการมีแฟน\n",
            "Process topic:  64 ระหว่างฤดูหนาวของภาคเหนือกับภาคอีสานที่ไหนหนาวกว่ากันหนาวทรมานกว่ากันครับ\n",
            "Process topic:  65 ไม่ไหวกับสิตา ณ เงาบุญแล้วจริงๆ\n",
            "Process topic:  66 ถ้าให้จัดวง Girl group 7 คน คุณจะเลือกใครมาอยู่ในวงตำแหน่งอะไรบ้าง\n",
            "Process topic:  67 หัวเหว่ย ออกมือถือ mate 40 ใช้ kirin 9000 น่าจะตัวสุดท้ายแล้วสำหรับมือถือไฮเอ็น RIP\n",
            "Process topic:  68 แถวนี้เขาจอดกันแบบนี้เป็นเรืองปกติ\n",
            "Process topic:  69 ช่อง7 ปี64\n",
            "Process topic:  70 เพจร้านค้าออนไลน์ปลิว คือ หายไปเลย ขณะกำลังขายดี เสียหายหลายแสน จะทำไงดี จะกู้คืนได้ไหมครับ\n",
            "Process topic:  71 ดวงวันนี้ 23 ตุลาคม พ.ศ. 2563 โดย อ.วร กระดานโหรฯ\n",
            "Process topic:  72 ขอเสียงหน่อยแน... ^^\n",
            "Process topic:  73 :: อยากให้เพิ่มโทษ คนขายน้ำตาพะยูน งาพะยูน (น้ำตาพะยูนไม่ได้เกิดจากการร้องไห้)\n",
            "Process topic:  74 ร้านเจ้าประจำ มาลงกันลืม นารายณ์พิซเซอเรียบุฟเฟ่ต์ และ ร้านเจ้จัน(ร้านส้มตำเจ้าประจำ)\n",
            "Process topic:  75 แบบนี้เรียกฐานะดีไหมคะ อยากถามเพื่อนๆค่ะ\n",
            "Process topic:  76 ทำไมสาวรัสเซียทำงานผู้หญิงหากินในยุโรปตะวันตกเยอะในขณะที่เวเนซูเอล่าสวยกว่ารัสเซียอีกแต่ทำไมมาทำงานแม่บ้านโรงแรม?\n",
            "Process topic:  77 พรุ่งนี้อย่าลืมติดตามชมรายการ ซูเปอร์เวียร์ พี่เวียร์มาพร้อมพ่อจ๋า เข้ม หัสวีร์\n",
            "Process topic:  78 ฟานไดจ์เตะฮาเมสจนเล่นไม่ได้ คิดว่าเอเวอร์ตันจะสะดุดหรือไม่\n",
            "Process topic:  79 Solo leveling SS2 EP124 สงสัยนิดหน่อย\n",
            "Process topic:  80 อยากกิน KFC\n",
            "Process topic:  81 ทำไมคนชอบบอกว่า ต่างจังหวัดจ่ายภาษีเลี้ยงกรุงเทพ แต่ไม่มีอะไรพัฒนา\n",
            "Process topic:  82 เชียร์สดกอล์ฟหญิง LPGA TOUR รายการ LPGA DRIVE ON CHAMPIONSHIP 2020 วันที่ 1\n",
            "Process topic:  83 🎬🎉🎉 “ปมเสน่หา” 🎥\n",
            "Process topic:  84 ละคะขอเกิดใหม่ใกล้ๆเธอ มีกี่ตอนเหรอคะ\n",
            "Process topic:  85 ตอนนี้เวียดนามตลาดน่าลงทุนกว่าไทยแล้วใช่มั้ย\n",
            "Process topic:  86 ตม. อเมริกากักตัว\n",
            "Process topic:  87 ทำไม มาม่า เกาหลีเผ็ดมากครับ ขนาดผมชอบกินเผ็ดยังแหยงเลย\n",
            "Process topic:  88 เกิดอะไรขึ้น มีดราม่ากับน้องไอรีน Red Velvet เหรอครับ?\n",
            "Process topic:  89 เปิดหน้าคนร้ายครบแล้ว ใครช่วยเราปะติดปะต่อความเชื่อมโยงหน่อยเถอะ\n",
            "Process topic:  90 คนฉลาดมากที่สุดที่คุณเคยเห็นเป็นแบบไหนเหรอครับ?\n",
            "Process topic:  91 ภาพสาวๆจาก GRABxBNK48\n",
            "Process topic:  92 (Spoil) Bokutachi wa benkyou ga dekinai Ch.179 – ศึกษาความรักด้วยการเล่นเกมส์\n",
            "Process topic:  93 NCTzen โดนน้องจองกุกตก มาเเนะนำน้องให้หน่อยค่ะ\n",
            "Process topic:  94 อยากรู้เกี่ยวกับ เตตะวัน\n",
            "Process topic:  95 แปลกจัง ทำไมเลนส์ถนนถึงไม่เป็นเส้นตรง\n",
            "Process topic:  96 เริ่มมี cover lyra แล้วครับ\n",
            "Process topic:  97 เนื้อเรื่อง james bond ตั้งแต่ casino royale จนถึง spectre\n",
            "Process topic:  98 ทีมคิดท่าเต้นทไวซ์รอบนี้ยังเป็น kieltutin อยู่ไหม?\n",
            "Process topic:  99 ไฮโซราชวัตร เกี่ยวอะไรกับเต ตะวันหรอคะ\n",
            "Process topic:  100 ชอบรูปถ่ายแพนด้าจริงๆ น้อยแต่มากดีจัง\n",
            "Process topic:  101 รบกวนสอบถามเกี่ยวกับๅ jamesbond 007 casino royale ครับ(สปอยล์เต็มๆ)\n",
            "Process topic:  102 รีแอคชาวเน็ตต่อ \"ยอดขาย BLACKPINK’s full album ‘THE ALBUM’ ในสัปดาห์แรก\" [กระทู้แปลความเห็น K-netizen]\n",
            "Process topic:  103 ไทยลีก อนุมัติ หนองบัว พิชญ ใช้สนามใหม่ ประเดิม 25 ตุลาคมนี้\n",
            "Process topic:  104 อยากรู้ว่าบท อิสร์ ของคุณอ่ำ อัมรินทร์เป็นคนดีมั้ยคะ |ขอเกิดใหม่ใกล้ๆเธอ|\n",
            "Process topic:  105 สรุปและเรียบเรียงประเด็นไอรีนกับสไตลิสต์และediter\n",
            "Process topic:  106 เหล้าหงส์ทอง ฉลากหลังวันที่หมดอายุ ที่มีรหัส SSL2 หมายความว่าอย่างไรครับ?\n",
            "Process topic:  107 ขณะที่คนอิ่นกำลังเพลิดเพลิน อาปังทำอะไร\n",
            "Process topic:  108 ชาวเน็ตเกาหลีพูดถึง Stage ที่เป็นตำนานของ Rosé BLACKPINK ! [กระทู้แปลความเห็น K-netz]\n",
            "Process topic:  109 ทุน5แสน กำไรเดือนละแสน ควรหาทางกู้เงินมาเพิ่มทุนไหมครับ?\n",
            "Process topic:  110 TWICE – I CAN'T STOP ME M/V Platform Teaser\n"
          ],
          "name": "stdout"
        }
      ]
    },
    {
      "cell_type": "code",
      "metadata": {
        "id": "3pnsNOfYuf4y"
      },
      "source": [
        "pantip_data.to_csv('example_pantip_data.csv',index=False, encoding=\"utf-8\")"
      ],
      "execution_count": 11,
      "outputs": []
    },
    {
      "cell_type": "code",
      "metadata": {
        "id": "Urj5xg0CwCCa"
      },
      "source": [
        ""
      ],
      "execution_count": null,
      "outputs": []
    }
  ]
}