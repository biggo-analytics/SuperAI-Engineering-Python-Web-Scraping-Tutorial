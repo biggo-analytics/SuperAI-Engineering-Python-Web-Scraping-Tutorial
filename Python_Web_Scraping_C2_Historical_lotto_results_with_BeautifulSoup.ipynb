{
  "nbformat": 4,
  "nbformat_minor": 0,
  "metadata": {
    "colab": {
      "name": "Python Web Scraping - C2 Historical lotto results with BeautifulSoup ",
      "provenance": [],
      "collapsed_sections": [],
      "authorship_tag": "ABX9TyPHhUl+kpOOUmQ4O3RBUHGe",
      "include_colab_link": true
    },
    "kernelspec": {
      "name": "python3",
      "display_name": "Python 3"
    }
  },
  "cells": [
    {
      "cell_type": "markdown",
      "metadata": {
        "id": "view-in-github",
        "colab_type": "text"
      },
      "source": [
        "<a href=\"https://colab.research.google.com/github/chaiyaphum/SuperAI-Engineering-Python-Web-Scraping-Tutorial/blob/main/Python_Web_Scraping_C2_Historical_lotto_results_with_BeautifulSoup.ipynb\" target=\"_parent\"><img src=\"https://colab.research.google.com/assets/colab-badge.svg\" alt=\"Open In Colab\"/></a>"
      ]
    },
    {
      "cell_type": "markdown",
      "metadata": {
        "id": "0DZRp4dxzhNA"
      },
      "source": [
        "## ดึกข้อมูลตรวจสลากกินแบ่งรัฐบาล (แบบง่าย)"
      ]
    },
    {
      "cell_type": "code",
      "metadata": {
        "id": "JjmxkH1pVQQA"
      },
      "source": [
        "import requests\n",
        "from bs4 import BeautifulSoup\n",
        "\n",
        "html = requests.get(\"https://news.sanook.com/lotto/check/16102563/\")\n",
        "\n",
        "bs = BeautifulSoup(html.content, \"html.parser\")"
      ],
      "execution_count": 22,
      "outputs": []
    },
    {
      "cell_type": "code",
      "metadata": {
        "id": "WES9SjLho5M4",
        "outputId": "f64a4c86-49e9-429e-d0bc-087d74cde9b6",
        "colab": {
          "base_uri": "https://localhost:8080/",
          "height": 34
        }
      },
      "source": [
        "result_by_class = bs.find_all(['span', 'strong'], {'class': 'lotto__number'})\n",
        "\n",
        "print('Number of results: ', len(result_by_class))"
      ],
      "execution_count": 25,
      "outputs": [
        {
          "output_type": "stream",
          "text": [
            "Number of results:  173\n"
          ],
          "name": "stdout"
        }
      ]
    },
    {
      "cell_type": "code",
      "metadata": {
        "id": "Y6AWvglvxZZ7",
        "outputId": "6aa225f4-d822-46a9-ea22-f3e7587c219b",
        "colab": {
          "base_uri": "https://localhost:8080/",
          "height": 54
        }
      },
      "source": [
        "print([text.get_text() for text in result_by_class])"
      ],
      "execution_count": 26,
      "outputs": [
        {
          "output_type": "stream",
          "text": [
            "['286051', '189', '464', '980', '045', '38', '286050', '286052', '259926', '712507', '741540', '896056', '977157', '065804', '218926', '226753', '258855', '475108', '578332', '684127', '750476', '842155', '843375', '016331', '064412', '150099', '212536', '292241', '325114', '476093', '672504', '737739', '925868', '024613', '070326', '151228', '249247', '297222', '376522', '502748', '678394', '753355', '940279', '031241', '085987', '165004', '254830', '301991', '416487', '506716', '710540', '811859', '948129', '039837', '130295', '186289', '284957', '303646', '417590', '578900', '711206', '890852', '985256', '054178', '148136', '194762', '289286', '311046', '468224', '666600', '733441', '894986', '994913', '010370', '101039', '256466', '347116', '418217', '491203', '599590', '690415', '788015', '896515', '014402', '103073', '259169', '350111', '420882', '499698', '600056', '706277', '790922', '899664', '018347', '109089', '279863', '352332', '426844', '503931', '604112', '730783', '801270', '903996', '038331', '120660', '288533', '361793', '432962', '504910', '617248', '751304', '809139', '914956', '038386', '128944', '292784', '376566', '434822', '540142', '618868', '753181', '810770', '919055', '041679', '150803', '313074', '388750', '436249', '544606', '637199', '760748', '815475', '936294', '047431', '198825', '314400', '392808', '458698', '550792', '643322', '762090', '817507', '938735', '069252', '202229', '322701', '393420', '461567', '570269', '643803', '765071', '829497', '948679', '071492', '239531', '339364', '397897', '469726', '596050', '663737', '776122', '843460', '970259', '087455', '256310', '342656', '416271', '486128', '596816', '685065', '786287', '854415', '977644']\n"
          ],
          "name": "stdout"
        }
      ]
    },
    {
      "cell_type": "code",
      "metadata": {
        "id": "UBObpxyNycrL"
      },
      "source": [
        ""
      ],
      "execution_count": null,
      "outputs": []
    }
  ]
}